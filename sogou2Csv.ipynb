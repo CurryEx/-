{
 "cells": [
  {
   "cell_type": "code",
   "execution_count": 19,
   "metadata": {},
   "outputs": [
    {
     "name": "stdout",
     "output_type": "stream",
     "text": [
      "Writing sogou2Csv.py\n"
     ]
    }
   ],
   "source": [
    "# author: Curry\n",
    "import pandas as pd\n",
    "import json\n",
    "from matplotlib import pyplot as plt \n",
    "import csv\n",
    "import codecs\n",
    "import requests\n",
    "import time\n",
    "import os"
   ]
  },
  {
   "cell_type": "code",
   "execution_count": 16,
   "metadata": {},
   "outputs": [],
   "source": [
    "resp = requests.get(\"http://sa.sogou.com/new-weball/api/sgs/epidemic/all-chart/data\")\n",
    "jsData = json.loads(resp.text)\n",
    "csvFile = open(\"./data/{}.csv\".format(time.strftime(\"%m-%d\")), \"w\", newline='', encoding='gbk')\n",
    "csvObj = csv.writer(csvFile)\n",
    "header = []\n",
    "rows = []\n",
    "\n",
    "jsData.pop(\"code\") # 这一项先删除免得影响后面程序\n",
    "header.append(\"自1月20的天数\")\n",
    "header.append(\"日期\")"
   ]
  },
  {
   "cell_type": "code",
   "execution_count": 17,
   "metadata": {},
   "outputs": [
    {
     "name": "stdout",
     "output_type": "stream",
     "text": [
      "./data/01-03.csv已经保存成功\n"
     ]
    }
   ],
   "source": [
    "# 数据装填\n",
    "\n",
    "# 表头\n",
    "chart2Header = [\"全国累计趋势对比\", \"湖北内外新增确诊数对比\", \"湖北内外治愈率对比\", \"湖北内外病死率对比\"]\n",
    "index = 0\n",
    "flag = False\n",
    "for i in jsData:\n",
    "    for j in jsData[i]:\n",
    "        if j == \"series\":\n",
    "            for seriesNo in range(0, len(jsData[i][j])):\n",
    "                if i.find(\"Hubei\") == -1 :\n",
    "                    flag = False\n",
    "                    header.append(jsData[i][j][seriesNo][\"name\"])\n",
    "                else :\n",
    "                    flag = True\n",
    "                    header.append(\"{}-{}\".format(chart2Header[index],jsData[i][j][seriesNo][\"name\"]))\n",
    "            if flag :\n",
    "                index+=1\n",
    "\n",
    "# 日期列\n",
    "dataSet = set()\n",
    "for i in jsData:\n",
    "    for j in jsData[i]:\n",
    "        if j == \"x\":\n",
    "            for k in jsData[i][j]:\n",
    "                dataSet.add(k[\"value\"])\n",
    "dataSet = sorted(dataSet)\n",
    "\n",
    "# 所有数据列\n",
    "columns = []\n",
    "for i in jsData:\n",
    "    for j in jsData[i]:\n",
    "        if j == \"series\":\n",
    "            for seriesNo in range(0, len(jsData[i][j])):\n",
    "                column = [] # 新建一列\n",
    "                for k in jsData[i][j][seriesNo][\"data\"]:\n",
    "                    if type(k) is dict :\n",
    "                        column.append(k[\"value\"])\n",
    "                    else :\n",
    "                        column.append(k)\n",
    "                columns.append(column) # 把当前列装进所有列\n",
    "    \n",
    "# 按行构建\n",
    "for i in range(0, len(dataSet)) : # 所有数据有日期那么多行 所以取日期集合长度\n",
    "    row = []\n",
    "    row.append(i+1)\n",
    "    row.append(dataSet[i])\n",
    "    for j in range(0, len(columns)):\n",
    "        row.append(columns[j][i])\n",
    "    rows.append(row) # 把当前行装进所有行\n",
    "    \n",
    "csvObj.writerow(header)\n",
    "csvObj.writerows(rows)\n",
    "\n",
    "print(\"{}已经保存成功\".format(csvFile.name))\n",
    "\n",
    "csvFile.close()"
   ]
  }
 ],
 "metadata": {
  "kernelspec": {
   "display_name": "Python 3",
   "language": "python",
   "name": "python3"
  },
  "language_info": {
   "codemirror_mode": {
    "name": "ipython",
    "version": 3
   },
   "file_extension": ".py",
   "mimetype": "text/x-python",
   "name": "python",
   "nbconvert_exporter": "python",
   "pygments_lexer": "ipython3",
   "version": "3.7.4"
  }
 },
 "nbformat": 4,
 "nbformat_minor": 2
}
